{
 "cells": [
  {
   "cell_type": "code",
   "execution_count": 12,
   "metadata": {},
   "outputs": [
    {
     "name": "stdout",
     "output_type": "stream",
     "text": [
      "The estimated carbon emissions are 4.60 grams.\n"
     ]
    }
   ],
   "source": [
    "# Calculate carbon emissions\n",
    "def calculate_carbon_emissions():\n",
    "    #initial values\n",
    "    Distance_Traveled = float(input(\"Enter the total number of miles driven: \"))\n",
    "    Fuel_Usage = float(input(\"Enter the carbon content of the fuel in grams per gallon: \"))\n",
    "    Density = float(input(\"Enter the density of the fuel used: \"))\n",
    "    Heat_Values = float(input(\"Enter the heat value of the fuel used: \"))\n",
    "    \n",
    "    # Calculate carbon emissions\n",
    "    Travel_Carbon_Footprint = ((Distance_Traveled + Fuel_Usage) * 2.3 * Heat_Values * Density)\n",
    "\n",
    "    # Print the result\n",
    "    print(f\"The estimated carbon emissions are {Travel_Carbon_Footprint:.2f} grams.\")\n",
    "# Call the function to calculate carbon emissions\n",
    "calculate_carbon_emissions()"
   ]
  }
 ],
 "metadata": {
  "kernelspec": {
   "display_name": "Python 3",
   "language": "python",
   "name": "python3"
  },
  "language_info": {
   "codemirror_mode": {
    "name": "ipython",
    "version": 3
   },
   "file_extension": ".py",
   "mimetype": "text/x-python",
   "name": "python",
   "nbconvert_exporter": "python",
   "pygments_lexer": "ipython3",
   "version": "3.11.4"
  },
  "orig_nbformat": 4
 },
 "nbformat": 4,
 "nbformat_minor": 2
}
